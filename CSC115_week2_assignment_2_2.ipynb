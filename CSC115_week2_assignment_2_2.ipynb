{
 "cells": [
  {
   "cell_type": "code",
   "execution_count": 1,
   "id": "cddbab2a-9e97-4ad3-946f-d7d7a7a588a5",
   "metadata": {},
   "outputs": [],
   "source": [
    "# Import the NumPy library with the alias 'np' for use in all problems\n",
    "import numpy as np"
   ]
  },
  {
   "cell_type": "code",
   "execution_count": 2,
   "id": "d8db231c-0550-435c-b447-35c403baccb0",
   "metadata": {},
   "outputs": [],
   "source": [
    "# Week 2 Assignment 2.2: NumPy Assignment"
   ]
  },
  {
   "cell_type": "code",
   "execution_count": 3,
   "id": "cad34b16-16ae-417b-a088-caecb20cd625",
   "metadata": {},
   "outputs": [
    {
     "name": "stdout",
     "output_type": "stream",
     "text": [
      "[ 1  2  3  4  5  6  7  8  9 10]\n"
     ]
    }
   ],
   "source": [
    "# Problem 1: Create a NumPy array of integers from 1 to 10 using arange\n",
    "array = np.arange(1, 11)\n",
    "print(array)"
   ]
  },
  {
   "cell_type": "code",
   "execution_count": 4,
   "id": "f25d76ce-b154-4d68-bb89-842b9388f8c2",
   "metadata": {},
   "outputs": [
    {
     "name": "stdout",
     "output_type": "stream",
     "text": [
      "[[ 1  2  3  4  5]\n",
      " [ 6  7  8  9 10]]\n"
     ]
    }
   ],
   "source": [
    "# Problem 2: Reshape the array into a 2x5 matrix\n",
    "matrix = array.reshape(2, 5)\n",
    "print(matrix)"
   ]
  },
  {
   "cell_type": "code",
   "execution_count": 5,
   "id": "a40f75a1-a65d-4e48-b15e-d466bd1ae7d8",
   "metadata": {},
   "outputs": [
    {
     "name": "stdout",
     "output_type": "stream",
     "text": [
      "[  1   4   9  16  25  36  49  64  81 100]\n"
     ]
    }
   ],
   "source": [
    "# Problem 3: Square each element of the original array\n",
    "squared_array = np.square(array)\n",
    "print(squared_array)"
   ]
  },
  {
   "cell_type": "code",
   "execution_count": 6,
   "id": "51ace2a9-d54d-4e41-b4be-ba49e26ac22b",
   "metadata": {},
   "outputs": [
    {
     "name": "stdout",
     "output_type": "stream",
     "text": [
      "Mean: 5.5, Median: 5.5, Standard Deviation: 2.8722813232690143\n"
     ]
    }
   ],
   "source": [
    "# Problem 4: Calculate the mean, median, and standard deviation of the array\n",
    "mean = np.mean(array)\n",
    "median = np.median(array)\n",
    "std_dev = np.std(array)\n",
    "print(f\"Mean: {mean}, Median: {median}, Standard Deviation: {std_dev}\")"
   ]
  },
  {
   "cell_type": "code",
   "execution_count": 7,
   "id": "fd9b547c-4223-4259-ab94-5d8e9e350c1c",
   "metadata": {},
   "outputs": [
    {
     "name": "stdout",
     "output_type": "stream",
     "text": [
      "[1.  2.  4.5 4.  5.  4.5 7.  8. ]\n"
     ]
    }
   ],
   "source": [
    "# Problem 5: Create an array with NaN values, calculate mean of non-NaN values, and replace NaN with that mean\n",
    "array_with_nan = np.array([1, 2, np.nan, 4, 5, np.nan, 7, 8], dtype=float)\n",
    "mean_non_nan = np.nanmean(array_with_nan)\n",
    "array_filled = np.where(np.isnan(array_with_nan), mean_non_nan, array_with_nan)\n",
    "print(array_filled)"
   ]
  },
  {
   "cell_type": "code",
   "execution_count": 8,
   "id": "2e91897b-39e5-4aea-baee-0b888f5b5c75",
   "metadata": {},
   "outputs": [
    {
     "name": "stdout",
     "output_type": "stream",
     "text": [
      "[ 6  7  8  9 10]\n"
     ]
    }
   ],
   "source": [
    "# Problem 6: Extract the second row of the 2x5 matrix using indexing\n",
    "second_row = matrix[1, :]\n",
    "print(second_row)"
   ]
  },
  {
   "cell_type": "code",
   "execution_count": 9,
   "id": "0286a622-54d8-4142-a41b-0deab3ba4d20",
   "metadata": {},
   "outputs": [
    {
     "name": "stdout",
     "output_type": "stream",
     "text": [
      "[ 6  7  8  9 10]\n"
     ]
    }
   ],
   "source": [
    "# Problem 7: Use boolean indexing to find elements greater than 5 in the original array\n",
    "greater_than_five = array[array > 5]\n",
    "print(greater_than_five)"
   ]
  },
  {
   "cell_type": "code",
   "execution_count": 10,
   "id": "f37daabc-26e4-408f-be4a-b5e051ffca45",
   "metadata": {},
   "outputs": [
    {
     "name": "stdout",
     "output_type": "stream",
     "text": [
      "[1 1 1 1]\n"
     ]
    }
   ],
   "source": [
    "# Problem 8: Create an array of dates and calculate the difference in days between consecutive dates\n",
    "dates = np.array(['2025-01-01', '2025-01-02', '2025-01-03', '2025-01-04', '2025-01-05'], dtype='datetime64')\n",
    "diff = np.diff(dates).astype('timedelta64[D]')\n",
    "print(diff)"
   ]
  },
  {
   "cell_type": "code",
   "execution_count": null,
   "id": "694483ac-2465-4f2e-9f1a-291edead532e",
   "metadata": {},
   "outputs": [],
   "source": []
  }
 ],
 "metadata": {
  "kernelspec": {
   "display_name": "Python [conda env:base] *",
   "language": "python",
   "name": "conda-base-py"
  },
  "language_info": {
   "codemirror_mode": {
    "name": "ipython",
    "version": 3
   },
   "file_extension": ".py",
   "mimetype": "text/x-python",
   "name": "python",
   "nbconvert_exporter": "python",
   "pygments_lexer": "ipython3",
   "version": "3.13.5"
  }
 },
 "nbformat": 4,
 "nbformat_minor": 5
}
