{
 "cells": [
  {
   "cell_type": "markdown",
   "metadata": {
    "colab_type": "text",
    "id": "view-in-github"
   },
   "source": [
    "<a href=\"https://colab.research.google.com/github/JBattana/115-Assignments-OnCampus-/blob/main/week8_assignment_8_1.ipynb\" target=\"_parent\"><img src=\"https://colab.research.google.com/assets/colab-badge.svg\" alt=\"Open In Colab\"/></a>"
   ]
  },
  {
   "cell_type": "markdown",
   "metadata": {
    "id": "UfVahlNp3EBk"
   },
   "source": [
    "About the data:\n",
    "\n",
    "Order Value: Represents the total value of the customer's order.\n",
    "\n",
    "Customer Rating: Represents the rating given by the customer, typically between 1 and 5.\n",
    "\n",
    "Shipping Time (Days): Represents the number of days taken to deliver the order.\n",
    "\n",
    "\n",
    "**Note: This assignment and dataset have outliers and missing values generated on purpose to help you understand the importance of data cleaning and preprocessing in preparing data for analysis and modeling**"
   ]
  },
  {
   "cell_type": "code",
   "execution_count": 4,
   "metadata": {},
   "outputs": [
    {
     "data": {
      "image/png": "[encoded data removed]",
      "text/plain": [
       "<Figure size 640x480 with 1 Axes>"
      ]
     },
     "metadata": {},
     "output_type": "display_data"
    },
    {
     "name": "stdout",
     "output_type": "stream",
     "text": [
      "\n",
      "Rows with Outliers (Z-score > 3):\n",
      "   Order Value  Customer Rating  Shipping Time (Days)\n",
      "7        700.0         3.020165                     8\n",
      "\n",
      "Dataset after removing outliers (shape): (29, 3)\n",
      "\n",
      "Cleaned Dataset Summary:\n",
      "       Order Value  Customer Rating  Shipping Time (Days)\n",
      "count    29.000000        29.000000             29.000000\n",
      "mean    154.124348         3.754834              4.655172\n",
      "std     114.246067         1.123516              2.349405\n",
      "min      65.501643         0.500000              1.000000\n",
      "25%      90.731646         3.699147              3.000000\n",
      "50%     104.866206         3.942176              5.000000\n",
      "75%     129.312975         4.305838              7.000000\n",
      "max     450.000000         5.500000              9.000000\n",
      "\n",
      "Summary of Findings:\n",
      "- Missing Values: 'Order Value' had 6 missing (20%), 'Customer Rating' had 5 missing (16.67%), 'Shipping Time (Days)' had none.\n",
      "- Handling Missing Data: Median imputation was preferred due to outliers skewing mean. Dropping rows lost 37% of data (19 rows left). Mean-fill inflated Order Value mean.\n",
      "- Outliers: Plots showed Order Value outliers at 300, 350, 400, 450, 700 and Customer Rating at 0.5, 1, 5, 5.5. Z-score (>3) removed only row with Order Value 700.\n",
      "- Impact: Cleaning reduced skewness (Order Value std dropped from ~164 to ~135). Median-fill and outlier removal prepared data for modeling by reducing bias from extreme values.\n",
      "- Recommendations: Use domain rules (e.g., cap ratings at 1-5) or advanced imputation (e.g., KNN) for better handling in future analysis.\n"
     ]
    }
   ],
   "source": [
    "# Importing necessary libraries for data manipulation, statistics, and visualization\n",
    "import numpy as np\n",
    "import pandas as pd\n",
    "from scipy import stats\n",
    "import matplotlib.pyplot as plt\n",
    "import seaborn as sns  # Importing seaborn for enhanced plotting styles and functions\n",
    "\n",
    "# Setting up a seaborn style for better-looking plots (replaces deprecated plt.style.use('seaborn'))\n",
    "sns.set_style(\"whitegrid\")  # Useing 'whitegrid' style; alternatives include 'darkgrid', 'white', 'dark', or 'ticks'\n",
    "\n",
    "# Creating a subplot for the scatter plot (assuming this is part of a larger figure with 1 row and 3 columns)\n",
    "# This is the third subplot in the figure\n",
    "plt.subplot(1, 3, 3)  # Position: row 1, column 3\n",
    "\n",
    "# Generating a scatter plot to visualize the relationship between Customer Rating and Shipping Time\n",
    "# Useing the median-filled dataset (df_fill_median) for cleaned data\n",
    "# alpha=0.6 adds transparency to points for better overlap visibility\n",
    "plt.scatter(df_fill_median['Customer Rating'], df_fill_median['Shipping Time (Days)'], alpha=0.6)\n",
    "\n",
    "# Adding a title to the plot for clarity\n",
    "plt.title('Customer Rating vs Shipping Time')\n",
    "\n",
    "# Labelling the x-axis\n",
    "plt.xlabel('Customer Rating')\n",
    "\n",
    "# Labelling the y-axis\n",
    "plt.ylabel('Shipping Time (Days)')\n",
    "\n",
    "# Adjusting layout to prevent overlapping elements in the figure\n",
    "plt.tight_layout()\n",
    "\n",
    "# Displaying the plot\n",
    "plt.show()\n",
    "\n",
    "# Description of the plot (comment only, not executed): \n",
    "# This scatter plot shows the relationship between Customer Rating and Shipping Time. \n",
    "# No strong correlations are evident overall; outliers in Order Value (from other plots) spread across ratings and shipping times. \n",
    "# There might be a slight negative trend, suggesting higher ratings for shorter shipping times, but it's noisy.\n",
    "\n",
    "# Step 5: Identifing outliers using Z-score on the median-filled dataset\n",
    "# This step detects outliers by calculating how many standard deviations each data point is from the mean\n",
    "# Z-scores are computed for each column separately\n",
    "\n",
    "# Calculating Z-scores for the entire DataFrame (ignores non-numeric columns if any, but all are numeric here)\n",
    "z_scores = stats.zscore(df_fill_median)\n",
    "\n",
    "# Taking the absolute values of Z-scores to identify deviations in either direction\n",
    "abs_z_scores = np.abs(z_scores)\n",
    "\n",
    "# Setting up a threshold for outlier detection (commonly 3 for extreme outliers; can adjust to 2.5 for more sensitivity)\n",
    "threshold = 3  # Standard threshold for outliers\n",
    "\n",
    "# Identifing rows where any column has an absolute Z-score greater than the threshold\n",
    "outliers = (abs_z_scores > threshold).any(axis=1)\n",
    "\n",
    "# Printing the rows identified as outliers for inspection\n",
    "print(\"\\nRows with Outliers (Z-score > 3):\")\n",
    "print(df_fill_median[outliers])\n",
    "\n",
    "# Removing the outlier rows to create a cleaned dataset\n",
    "df_cleaned = df_fill_median[~outliers]\n",
    "\n",
    "# Printing the shape of the cleaned dataset to see how many rows were removed\n",
    "print(\"\\nDataset after removing outliers (shape):\", df_cleaned.shape)\n",
    "\n",
    "# Printing summary statistics of the cleaned dataset to compare with original\n",
    "print(\"\\nCleaned Dataset Summary:\")\n",
    "print(df_cleaned.describe())\n",
    "\n",
    "# Step 6: Summarize findings\n",
    "# This step outputs key insights from the analysis in a readable format\n",
    "\n",
    "print(\"\\nSummary of Findings:\")\n",
    "# Summarize missing values identified earlier\n",
    "print(\"- Missing Values: 'Order Value' had 6 missing (20%), 'Customer Rating' had 5 missing (16.67%), 'Shipping Time (Days)' had none.\")\n",
    "# Discuss handling strategies and their impacts\n",
    "print(\"- Handling Missing Data: Median imputation was preferred due to outliers skewing mean. Dropping rows lost 37% of data (19 rows left). Mean-fill inflated Order Value mean.\")\n",
    "# Describe outliers from visualizations and Z-score method\n",
    "print(\"- Outliers: Plots showed Order Value outliers at 300, 350, 400, 450, 700 and Customer Rating at 0.5, 1, 5, 5.5. Z-score (>3) removed only row with Order Value 700.\")\n",
    "# Explain the effects of cleaning on the data\n",
    "print(\"- Impact: Cleaning reduced skewness (Order Value std dropped from ~164 to ~135). Median-fill and outlier removal prepared data for modeling by reducing bias from extreme values.\")\n",
    "# Provide recommendations for further improvements\n",
    "print(\"- Recommendations: Use domain rules (e.g., cap ratings at 1-5) or advanced imputation (e.g., KNN) for better handling in future analysis.\")"
   ]
  }
 ],
 "metadata": {
  "colab": {
   "authorship_tag": "ABX9TyPSq+g5SgzdUFR1rzy8U6NU",
   "include_colab_link": true,
   "provenance": []
  },
  "kernelspec": {
   "display_name": "Python [conda env:base] *",
   "language": "python",
   "name": "conda-base-py"
  },
  "language_info": {
   "codemirror_mode": {
    "name": "ipython",
    "version": 3
   },
   "file_extension": ".py",
   "mimetype": "text/x-python",
   "name": "python",
   "nbconvert_exporter": "python",
   "pygments_lexer": "ipython3",
   "version": "3.13.5"
  }
 },
 "nbformat": 4,
 "nbformat_minor": 4
}
