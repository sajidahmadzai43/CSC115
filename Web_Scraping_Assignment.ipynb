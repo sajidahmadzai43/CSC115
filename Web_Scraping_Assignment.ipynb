{
 "cells": [
  {
   "cell_type": "code",
   "execution_count": 1,
   "id": "0c6b0e1b-4a1a-435a-b653-70c156f23a9c",
   "metadata": {},
   "outputs": [
    {
     "data": {
      "text/html": [
       "<div>\n",
       "<style scoped>\n",
       "    .dataframe tbody tr th:only-of-type {\n",
       "        vertical-align: middle;\n",
       "    }\n",
       "\n",
       "    .dataframe tbody tr th {\n",
       "        vertical-align: top;\n",
       "    }\n",
       "\n",
       "    .dataframe thead th {\n",
       "        text-align: right;\n",
       "    }\n",
       "</style>\n",
       "<table border=\"1\" class=\"dataframe\">\n",
       "  <thead>\n",
       "    <tr style=\"text-align: right;\">\n",
       "      <th></th>\n",
       "      <th>title</th>\n",
       "      <th>price</th>\n",
       "      <th>availability</th>\n",
       "    </tr>\n",
       "  </thead>\n",
       "  <tbody>\n",
       "    <tr>\n",
       "      <th>0</th>\n",
       "      <td>A Light in the Attic</td>\n",
       "      <td>£51.77</td>\n",
       "      <td>In stock</td>\n",
       "    </tr>\n",
       "    <tr>\n",
       "      <th>1</th>\n",
       "      <td>Tipping the Velvet</td>\n",
       "      <td>£53.74</td>\n",
       "      <td>In stock</td>\n",
       "    </tr>\n",
       "    <tr>\n",
       "      <th>2</th>\n",
       "      <td>Soumission</td>\n",
       "      <td>£50.10</td>\n",
       "      <td>In stock</td>\n",
       "    </tr>\n",
       "    <tr>\n",
       "      <th>3</th>\n",
       "      <td>Sharp Objects</td>\n",
       "      <td>£47.82</td>\n",
       "      <td>In stock</td>\n",
       "    </tr>\n",
       "    <tr>\n",
       "      <th>4</th>\n",
       "      <td>Sapiens: A Brief History of Humankind</td>\n",
       "      <td>£54.23</td>\n",
       "      <td>In stock</td>\n",
       "    </tr>\n",
       "  </tbody>\n",
       "</table>\n",
       "</div>"
      ],
      "text/plain": [
       "                                   title   price availability\n",
       "0                   A Light in the Attic  £51.77     In stock\n",
       "1                     Tipping the Velvet  £53.74     In stock\n",
       "2                             Soumission  £50.10     In stock\n",
       "3                          Sharp Objects  £47.82     In stock\n",
       "4  Sapiens: A Brief History of Humankind  £54.23     In stock"
      ]
     },
     "execution_count": 1,
     "metadata": {},
     "output_type": "execute_result"
    }
   ],
   "source": [
    "# Import libraries\n",
    "import requests\n",
    "from bs4 import BeautifulSoup\n",
    "import pandas as pd\n",
    "\n",
    "# Web scraping from https://toscrape.com/\n",
    "url = 'http://books.toscrape.com/'\n",
    "response = requests.get(url)\n",
    "soup = BeautifulSoup(response.content, 'html.parser')\n",
    "\n",
    "# Extract book data (title, price, availability)\n",
    "books = []\n",
    "for article in soup.select('article.product_pod'):\n",
    "    title = article.select_one('h3 a')['title']\n",
    "    price = article.select_one('.price_color').text\n",
    "    availability = article.select_one('.instock.availability').text.strip() if article.select_one('.instock.availability') else 'N/A'\n",
    "    books.append({'title': title, 'price': price, 'availability': availability})\n",
    "\n",
    "# Create DataFrame\n",
    "df = pd.DataFrame(books)\n",
    "\n",
    "# Display the first few rows to verify\n",
    "df.head()"
   ]
  },
  {
   "cell_type": "code",
   "execution_count": 3,
   "id": "f0022cfb-ef91-4444-a9c4-9444282335cc",
   "metadata": {},
   "outputs": [
    {
     "name": "stdout",
     "output_type": "stream",
     "text": [
      "Size of the dataset: 20 rows, 3 columns\n"
     ]
    }
   ],
   "source": [
    "# EDA - Answer the questions\n",
    "\n",
    "# 1. What is the size of the dataset?\n",
    "size = df.shape\n",
    "print(f\"Size of the dataset: {size[0]} rows, {size[1]} columns\")"
   ]
  },
  {
   "cell_type": "code",
   "execution_count": 4,
   "id": "1598953a-d516-4b3f-b0ed-fe3961c91733",
   "metadata": {},
   "outputs": [
    {
     "name": "stdout",
     "output_type": "stream",
     "text": [
      "\n",
      "Names and data types of each column:\n",
      "title            object\n",
      "price           float64\n",
      "availability     object\n",
      "dtype: object\n"
     ]
    }
   ],
   "source": [
    "# 2. What are the names and data types of each column?\n",
    "column_info = df.dtypes\n",
    "print(\"\\nNames and data types of each column:\")\n",
    "print(column_info)"
   ]
  },
  {
   "cell_type": "code",
   "execution_count": 5,
   "id": "b5242ed4-8a71-4c7c-8568-cdae1ce1f9d6",
   "metadata": {},
   "outputs": [
    {
     "name": "stdout",
     "output_type": "stream",
     "text": [
      "\n",
      "Number of unique values for each categorical variable:\n",
      "title           20\n",
      "availability     1\n",
      "dtype: int64\n"
     ]
    }
   ],
   "source": [
    "# 3. How many unique values are there for each categorical variable?\n",
    "unique_values = df.select_dtypes(include=['object']).nunique()\n",
    "print(\"\\nNumber of unique values for each categorical variable:\")\n",
    "print(unique_values)"
   ]
  },
  {
   "cell_type": "code",
   "execution_count": 10,
   "id": "6c412c26-dc8b-48d0-9677-aa42899354db",
   "metadata": {},
   "outputs": [
    {
     "name": "stdout",
     "output_type": "stream",
     "text": [
      "\n",
      "Minimum and maximum values for numerical columns:\n",
      "     price\n",
      "min  13.99\n",
      "max  57.25\n"
     ]
    }
   ],
   "source": [
    "# 4. If there is any numerical value in the dataset, what are the minimum and maximum values for it?\n",
    "# Convert price to numeric by removing '£' and converting to float, handling potential errors\n",
    "df['price'] = df['price'].replace('£', '', regex=True).astype(float, errors='ignore')\n",
    "numeric_summary = df.describe()\n",
    "print(\"\\nMinimum and maximum values for numerical columns:\")\n",
    "print(numeric_summary.loc[['min', 'max']][['price']])"
   ]
  },
  {
   "cell_type": "code",
   "execution_count": 8,
   "id": "ba9af537-48e1-4054-a079-41510c1da8e2",
   "metadata": {},
   "outputs": [
    {
     "name": "stdout",
     "output_type": "stream",
     "text": [
      "\n",
      "Number of rows after dropping missing values: 20\n"
     ]
    }
   ],
   "source": [
    "# 5. Drop rows that have missing values\n",
    "df_cleaned = df.dropna()\n",
    "print(f\"\\nNumber of rows after dropping missing values: {df_cleaned.shape[0]}\")"
   ]
  },
  {
   "cell_type": "code",
   "execution_count": 9,
   "id": "6da09122-3893-449f-b593-aca26b11a61e",
   "metadata": {},
   "outputs": [
    {
     "name": "stdout",
     "output_type": "stream",
     "text": [
      "\n",
      "Most frequent category in 'availability': In stock with 20 occurrences\n"
     ]
    }
   ],
   "source": [
    "# 6. What are the most frequent categories in the data?\n",
    "most_frequent = df['availability'].value_counts().head(1)\n",
    "print(f\"\\nMost frequent category in 'availability': {most_frequent.index[0]} with {most_frequent.values[0]} occurrences\")\n",
    "# Observation: The most frequent availability category is likely 'In stock' or 'N/A', indicating that most books have a consistent stock status, which suggests the dataset primarily reflects available items."
   ]
  },
  {
   "cell_type": "code",
   "execution_count": null,
   "id": "c4b5ed8f-258d-4030-90f8-2e6df0440837",
   "metadata": {},
   "outputs": [],
   "source": []
  }
 ],
 "metadata": {
  "kernelspec": {
   "display_name": "Python [conda env:base] *",
   "language": "python",
   "name": "conda-base-py"
  },
  "language_info": {
   "codemirror_mode": {
    "name": "ipython",
    "version": 3
   },
   "file_extension": ".py",
   "mimetype": "text/x-python",
   "name": "python",
   "nbconvert_exporter": "python",
   "pygments_lexer": "ipython3",
   "version": "3.13.5"
  }
 },
 "nbformat": 4,
 "nbformat_minor": 5
}
