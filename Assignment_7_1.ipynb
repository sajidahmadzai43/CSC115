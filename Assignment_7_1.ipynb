{
 "cells": [
  {
   "cell_type": "code",
   "execution_count": 12,
   "id": "8c661b37-e024-4f6f-9f6f-3230b3660eda",
   "metadata": {},
   "outputs": [],
   "source": [
    "import pandas as pd\n",
    "from io import StringIO\n",
    "\n",
    "# Define the CSV data as a string (simulating the provided dataset)\n",
    "csv_data = \"\"\"Fast-Food Chains,U.S. Systemwide Sales (Millions - U.S Dollars),Average Sales per Unit (Thousands - U.S Dollars),Franchised Stores,Company Stores,2021 Total Units,Total Change in Units from 2020\n",
    "Arby’s,4462,1309,2293,1116,3409,40\n",
    "Baskin-Robbins,686,296,2317,0,2317,102\n",
    "Bojangles,1485,1924,496,277,773,15\n",
    "Burger King,10033,1470,7054,51,7105,24\n",
    "Carl’s Jr.,1560,1400,1011,47,1058,-21\n",
    "Checkers/Rally’s,931,1145,568,266,834,-13\n",
    "Chick-fil-A,16700,6100,2650,82,2732,155\n",
    "Chipotle,7547,2641,0,2966,2966,198\n",
    "Church’s Chicken,776,870,731,161,892,-13\n",
    "Culver’s,2489,3099,831,6,837,55\n",
    "Dairy Queen,4494,1036,4337,2,4339,-22\n",
    "Del Taco,931,1551,306,294,600,4\n",
    "Domino's,8641,1317,6185,375,6560,205\n",
    "Dunkin',10416,1127,9244,0,9244,161\n",
    "El Pollo Loco,973,2000,292,189,481,1\n",
    "Firehouse Subs,1044,909,1101,39,1140,9\n",
    "Five Guys,2093,3172,911,479,1390,8\n",
    "Freddy’s Frozen Custard & Steakburgers,759,1842,391,29,420,32\n",
    "Hardee’s,2100,1117,1536,198,1734,-32\n",
    "In-N-Out Burger,1175,3200,0,370,370,5\n",
    "Jack in the Box,4077,1843,2055,163,2218,-23\n",
    "Jersey Mike’s,2203,1145,2087,13,2100,246\n",
    "Jimmy John’s,2301,866,2616,41,2657,48\n",
    "KFC,5100,1408,3906,47,3953,10\n",
    "Krispy Kreme,996,4000,51,307,358,6\n",
    "Little Caesars,4185,1000,3601,580,4181,-28\n",
    "Marco’s Pizza,899,934,957,45,1002,48\n",
    "McAlister’s Deli,869,1866,472,33,505,24\n",
    "McDonald’s,45960,3420,12775,663,13438,244\n",
    "Moe’s Southwest Grill,661,1073,658,1,659,-22\n",
    "Panda Express,4452,2173,147,2187,2334,150\n",
    "Panera Bread,5650,2700,1130,950,2080,-25\n",
    "Papa Johns,3486,1147,2564,600,3164,30\n",
    "Papa Murphy’s,809,643,1213,27,1240,-53\n",
    "Pizza Hut,5500,1022,6526,22,6548,-13\n",
    "Popeyes Louisiana Kitchen,4775,1867,2716,41,2754,146\n",
    "QDOBA,835,1006,406,333,739,2\n",
    "Raising Cane’s,2377,4893,23,544,567,58\n",
    "Shake Shack,777,3679,25,218,243,38\n",
    "Sonic Drive-In,5835,1643,3232,320,3552,26\n",
    "Starbucks,24300,1200,6497,8953,15450,113\n",
    "Subway,9350,438,21147,0,21147,-1043\n",
    "Taco Bell,12600,1823,6540,462,7002,203\n",
    "Tim Hortons,687,1200,637,0,637,4\n",
    "Tropical Smoothie Cafe,948,1009,1038,1,1039,125\n",
    "Wendy's,11111,1895,5535,403,5938,57\n",
    "Whataburger,3089,3640,131,742,873,29\n",
    "White Castle,615,1749,0,349,349,-6\n",
    "Wingstop,2278,1592,1498,36,1534,175\n",
    "Zaxby’s,2233,2484,761,147,908,3\"\"\"\n",
    "\n",
    "# Load the CSV data into a Pandas DataFrame\n",
    "df = pd.read_csv(StringIO(csv_data))"
   ]
  },
  {
   "cell_type": "code",
   "execution_count": 13,
   "id": "ad4581ac-d20b-4488-9641-cc7ab29bee8e",
   "metadata": {},
   "outputs": [],
   "source": [
    "# Creating a dictionary with the new record's data for Subway\n",
    "new_row = {\n",
    "    'Fast-Food Chains': 'Subway',\n",
    "    'U.S. Systemwide Sales (Millions - U.S Dollars)': 1000,\n",
    "    'Average Sales per Unit (Thousands - U.S Dollars)': 400,\n",
    "    'Franchised Stores': 2000,\n",
    "    'Company Stores': 500,\n",
    "    '2021 Total Units': 2500,\n",
    "    'Total Change in Units from 2020': 50\n",
    "}\n",
    "# Append the new row to the DataFrame and reset the index to maintain consistency\n",
    "df = pd.concat([df, pd.DataFrame([new_row])], ignore_index=True)\n",
    "# Output: Adds a new Subway record, resulting in 51 rows (including the duplicate Subway entry)"
   ]
  },
  {
   "cell_type": "code",
   "execution_count": 15,
   "id": "1de7692e-db29-47de-989a-4e9b1bb62fdd",
   "metadata": {},
   "outputs": [],
   "source": [
    "# Updating the systemwide sales for McDonald's to 40000 million using loc to target the specific row\n",
    "df.loc[df['Fast-Food Chains'] == 'McDonald’s', 'U.S. Systemwide Sales (Millions - U.S Dollars)'] = 40000\n",
    "# Output: McDonald's systemwide sales updated to 40000"
   ]
  },
  {
   "cell_type": "code",
   "execution_count": 16,
   "id": "3e961671-4e23-46e3-9ee7-32c18c59a136",
   "metadata": {},
   "outputs": [],
   "source": [
    "# Updating the systemwide sales for McDonald's to 40000 million using loc to target the specific row\n",
    "df.loc[df['Fast-Food Chains'] == 'McDonald’s', 'U.S. Systemwide Sales (Millions - U.S Dollars)'] = 40000\n",
    "# Output: McDonald's systemwide sales updated to 40000"
   ]
  },
  {
   "cell_type": "code",
   "execution_count": 18,
   "id": "aee98fa0-89ac-43eb-ac9d-9cd007bf3e60",
   "metadata": {},
   "outputs": [
    {
     "name": "stdout",
     "output_type": "stream",
     "text": [
      "   Fast-Food Chains  Average Sales per Unit (Thousands - U.S Dollars)\n",
      "6       Chick-fil-A                                              6100\n",
      "37   Raising Cane’s                                              4893\n",
      "24     Krispy Kreme                                              4000\n",
      "38      Shake Shack                                              3679\n",
      "46      Whataburger                                              3640\n",
      "28       McDonald’s                                              3420\n",
      "19  In-N-Out Burger                                              3200\n",
      "16        Five Guys                                              3172\n",
      "9          Culver’s                                              3099\n",
      "31     Panera Bread                                              2700\n"
     ]
    }
   ],
   "source": [
    "# Sorting the DataFrame by Average Sales per Unit in descending order and select the top 10\n",
    "# Only include the chain name and average sales columns for output\n",
    "top_10 = df.sort_values('Average Sales per Unit (Thousands - U.S Dollars)', ascending=False).head(10)[['Fast-Food Chains', 'Average Sales per Unit (Thousands - U.S Dollars)']]\n",
    "print(top_10)\n",
    "# Output: Displays the top 10 chains with highest average sales per unit, e.g., Chick-fil-A (6100), Raising Cane’s (4893), etc."
   ]
  },
  {
   "cell_type": "code",
   "execution_count": 22,
   "id": "44dec62c-e310-4048-aa5e-6e15e906da58",
   "metadata": {},
   "outputs": [
    {
     "name": "stdout",
     "output_type": "stream",
     "text": [
      "                          Fast-Food Chains  2021 Total Units\n",
      "0                                   Arby’s              3409\n",
      "1                           Baskin-Robbins              2317\n",
      "2                                Bojangles               773\n",
      "3                              Burger King              7105\n",
      "6                              Chick-fil-A              2732\n",
      "7                                 Chipotle              2966\n",
      "9                                 Culver’s               837\n",
      "11                                Del Taco               600\n",
      "12                                Domino's              6560\n",
      "13                                 Dunkin'              9244\n",
      "14                           El Pollo Loco               481\n",
      "15                          Firehouse Subs              1140\n",
      "16                               Five Guys              1390\n",
      "17  Freddy’s Frozen Custard & Steakburgers               420\n",
      "19                         In-N-Out Burger               370\n",
      "21                           Jersey Mike’s              2100\n",
      "22                            Jimmy John’s              2657\n",
      "23                                     KFC              3953\n",
      "24                            Krispy Kreme               358\n",
      "26                           Marco’s Pizza              1002\n",
      "27                        McAlister’s Deli               505\n",
      "28                              McDonald’s             13438\n",
      "30                           Panda Express              2334\n",
      "32                              Papa Johns              3164\n",
      "35               Popeyes Louisiana Kitchen              2754\n",
      "36                                   QDOBA               739\n",
      "37                          Raising Cane’s               567\n",
      "38                             Shake Shack               243\n",
      "39                          Sonic Drive-In              3552\n",
      "40                               Starbucks             15450\n",
      "42                               Taco Bell              7002\n",
      "43                             Tim Hortons               637\n",
      "44                  Tropical Smoothie Cafe              1039\n",
      "45                                 Wendy's              5938\n",
      "46                             Whataburger               873\n",
      "48                                Wingstop              1534\n",
      "49                                 Zaxby’s               908\n",
      "50                                  Subway              2500\n"
     ]
    }
   ],
   "source": [
    "# Selecting only the Fast-Food Chains and 2021 Total Units columns from the DataFrame\n",
    "chains_units = df[['Fast-Food Chains', '2021 Total Units']]\n",
    "print(chains_units)\n",
    "# Output: Lists all fast-food chains and their total units in 2021, e.g., Starbucks (15450), Subway (21147), etc."
   ]
  },
  {
   "cell_type": "code",
   "execution_count": 20,
   "id": "627b0c24-6382-43d3-9bc4-77d06b8c4e28",
   "metadata": {},
   "outputs": [
    {
     "name": "stdout",
     "output_type": "stream",
     "text": [
      "0                                     Arby’s\n",
      "1                             Baskin-Robbins\n",
      "2                                  Bojangles\n",
      "3                                Burger King\n",
      "4                                 Carl’s Jr.\n",
      "5                           Checkers/Rally’s\n",
      "6                                Chick-fil-A\n",
      "8                           Church’s Chicken\n",
      "9                                   Culver’s\n",
      "10                               Dairy Queen\n",
      "11                                  Del Taco\n",
      "12                                  Domino's\n",
      "13                                   Dunkin'\n",
      "14                             El Pollo Loco\n",
      "15                            Firehouse Subs\n",
      "16                                 Five Guys\n",
      "17    Freddy’s Frozen Custard & Steakburgers\n",
      "18                                  Hardee’s\n",
      "20                           Jack in the Box\n",
      "21                             Jersey Mike’s\n",
      "22                              Jimmy John’s\n",
      "23                                       KFC\n",
      "25                            Little Caesars\n",
      "26                             Marco’s Pizza\n",
      "27                          McAlister’s Deli\n",
      "28                                McDonald’s\n",
      "29                     Moe’s Southwest Grill\n",
      "31                              Panera Bread\n",
      "32                                Papa Johns\n",
      "33                             Papa Murphy’s\n",
      "34                                 Pizza Hut\n",
      "35                 Popeyes Louisiana Kitchen\n",
      "36                                     QDOBA\n",
      "39                            Sonic Drive-In\n",
      "41                                    Subway\n",
      "42                                 Taco Bell\n",
      "43                               Tim Hortons\n",
      "44                    Tropical Smoothie Cafe\n",
      "45                                   Wendy's\n",
      "48                                  Wingstop\n",
      "49                                   Zaxby’s\n",
      "50                                    Subway\n",
      "Name: Fast-Food Chains, dtype: object\n"
     ]
    }
   ],
   "source": [
    "# Filter the DataFrame to include only chains where Franchised Stores exceed Company Stores\n",
    "# Select only the Fast-Food Chains column for output\n",
    "franchised_more = df[df['Franchised Stores'] > df['Company Stores']]['Fast-Food Chains']\n",
    "print(franchised_more)\n",
    "# Output: Lists chains like Arby’s, Baskin-Robbins, Burger King, etc., where franchised stores outnumber company stores"
   ]
  },
  {
   "cell_type": "code",
   "execution_count": 21,
   "id": "c5d82d2c-9c11-4633-ac68-b2a4eb741561",
   "metadata": {},
   "outputs": [],
   "source": [
    "# Filter the DataFrame to keep only records where Total Change in Units from 2020 is non-negative\n",
    "df = df[df['Total Change in Units from 2020'] >= 0]\n",
    "# Output: Removes records with negative unit changes, reducing the dataset to 38 rows"
   ]
  },
  {
   "cell_type": "code",
   "execution_count": null,
   "id": "0c3d2251-05cf-4864-840f-df381a517282",
   "metadata": {},
   "outputs": [],
   "source": []
  }
 ],
 "metadata": {
  "kernelspec": {
   "display_name": "Python [conda env:base] *",
   "language": "python",
   "name": "conda-base-py"
  },
  "language_info": {
   "codemirror_mode": {
    "name": "ipython",
    "version": 3
   },
   "file_extension": ".py",
   "mimetype": "text/x-python",
   "name": "python",
   "nbconvert_exporter": "python",
   "pygments_lexer": "ipython3",
   "version": "3.13.5"
  }
 },
 "nbformat": 4,
 "nbformat_minor": 5
}
