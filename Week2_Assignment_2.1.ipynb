{
 "cells": [
  {
   "cell_type": "markdown",
   "id": "6c1e696d-9fac-4c3b-9231-8fde08b9d1fc",
   "metadata": {},
   "source": [
    "# Week 2 Assignment 2.1"
   ]
  },
  {
   "cell_type": "code",
   "execution_count": 10,
   "id": "8cecc40f-7220-41a2-8afa-5a0dbb06c376",
   "metadata": {},
   "outputs": [
    {
     "name": "stdout",
     "output_type": "stream",
     "text": [
      "Type of integer_var: <class 'int'>\n",
      "Type of float_var: <class 'float'>\n",
      "Type of string_var: <class 'str'>\n"
     ]
    }
   ],
   "source": [
    "# Solution for Question 1\n",
    "integer_var = 42\n",
    "float_var = 3.14\n",
    "string_var = \"Hello, Python!\"\n",
    "\n",
    "print(\"Type of integer_var:\", type(integer_var))\n",
    "print(\"Type of float_var:\", type(float_var))\n",
    "print(\"Type of string_var:\", type(string_var))"
   ]
  },
  {
   "cell_type": "markdown",
   "id": "f86dae6e-b0c5-4ec2-b3d6-2d5b9ae417c7",
   "metadata": {},
   "source": [
    "## Question 1: Variables and Data Types\n",
    "Creating three variables: one to store an integer, one for a floating-point number, and one for a string. Printing the type of each variable using the `type()` function."
   ]
  },
  {
   "cell_type": "code",
   "execution_count": 9,
   "id": "16e8d175-455a-49e3-b90f-8e651bba4979",
   "metadata": {},
   "outputs": [
    {
     "name": "stdout",
     "output_type": "stream",
     "text": [
      "Type of integer_var: <class 'int'>\n",
      "Type of float_var: <class 'float'>\n",
      "Type of string_var: <class 'str'>\n"
     ]
    }
   ],
   "source": [
    "integer_var = 42\n",
    "float_var = 3.14\n",
    "string_var = \"Hello, Python!\"\n",
    "print(\"Type of integer_var:\", type(integer_var))\n",
    "print(\"Type of float_var:\", type(float_var))\n",
    "print(\"Type of string_var:\", type(string_var))"
   ]
  }
 ],
 "metadata": {
  "kernelspec": {
   "display_name": "Python [conda env:base] *",
   "language": "python",
   "name": "conda-base-py"
  },
  "language_info": {
   "codemirror_mode": {
    "name": "ipython",
    "version": 3
   },
   "file_extension": ".py",
   "mimetype": "text/x-python",
   "name": "python",
   "nbconvert_exporter": "python",
   "pygments_lexer": "ipython3",
   "version": "3.13.5"
  }
 },
 "nbformat": 4,
 "nbformat_minor": 5
}
